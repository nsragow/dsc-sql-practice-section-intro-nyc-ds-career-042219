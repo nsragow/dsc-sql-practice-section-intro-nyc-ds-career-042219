{
 "cells": [
  {
   "cell_type": "code",
   "execution_count": 2,
   "metadata": {},
   "outputs": [
    {
     "name": "stdout",
     "output_type": "stream",
     "text": [
      "Collecting sql_panda_wrapper\n",
      "  Downloading https://files.pythonhosted.org/packages/67/ec/7fefaf1ba179187c10c526173088d9df46c415625affcfc200768fc0dc21/sql_panda_wrapper-0.1.2-py3-none-any.whl\n",
      "Installing collected packages: sql-panda-wrapper\n",
      "Successfully installed sql-panda-wrapper-0.1.2\n",
      "\u001b[33mYou are using pip version 10.0.1, however version 19.1.1 is available.\n",
      "You should consider upgrading via the 'pip install --upgrade pip' command.\u001b[0m\n"
     ]
    }
   ],
   "source": [
    "!pip install sql_panda_wrapper"
   ]
  },
  {
   "cell_type": "code",
   "execution_count": 3,
   "metadata": {},
   "outputs": [],
   "source": [
    "import SQLPanda as spd"
   ]
  },
  {
   "cell_type": "code",
   "execution_count": 4,
   "metadata": {},
   "outputs": [],
   "source": [
    "df = spd.load(\"practice\")"
   ]
  },
  {
   "cell_type": "code",
   "execution_count": 6,
   "metadata": {},
   "outputs": [],
   "source": [
    "df.commit(\"create table hi(what int primary key, this text)\")"
   ]
  },
  {
   "cell_type": "code",
   "execution_count": 7,
   "metadata": {},
   "outputs": [
    {
     "data": {
      "text/plain": [
       "1"
      ]
     },
     "execution_count": 7,
     "metadata": {},
     "output_type": "execute_result"
    }
   ],
   "source": [
    "df.tables()"
   ]
  },
  {
   "cell_type": "code",
   "execution_count": 8,
   "metadata": {
    "scrolled": true
   },
   "outputs": [
    {
     "data": {
      "text/plain": [
       "{'__name__': '__main__',\n",
       " '__doc__': 'Automatically created module for IPython interactive environment',\n",
       " '__package__': None,\n",
       " '__loader__': None,\n",
       " '__spec__': None,\n",
       " '__builtin__': <module 'builtins' (built-in)>,\n",
       " '__builtins__': <module 'builtins' (built-in)>,\n",
       " '_ih': ['',\n",
       "  'globals()',\n",
       "  'globals()',\n",
       "  'a = \"hi\"\\nglobals()',\n",
       "  'a = \"hi\"\\nglobals()[]',\n",
       "  'a = \"hi\"\\nglobals()[\"a\"]',\n",
       "  'a = \"hi\"\\nglobals()[\"something_new\"] = 10',\n",
       "  'something_new',\n",
       "  'a = \"hi\"\\nglobals()'],\n",
       " '_oh': {1: {...}, 2: {...}, 3: {...}, 5: 'hi', 7: 10},\n",
       " '_dh': ['/home/literal-listener-4827/dsc-sql-practice-section-intro-nyc-ds-career-042219'],\n",
       " 'In': ['',\n",
       "  'globals()',\n",
       "  'globals()',\n",
       "  'a = \"hi\"\\nglobals()',\n",
       "  'a = \"hi\"\\nglobals()[]',\n",
       "  'a = \"hi\"\\nglobals()[\"a\"]',\n",
       "  'a = \"hi\"\\nglobals()[\"something_new\"] = 10',\n",
       "  'something_new',\n",
       "  'a = \"hi\"\\nglobals()'],\n",
       " 'Out': {1: {...}, 2: {...}, 3: {...}, 5: 'hi', 7: 10},\n",
       " 'get_ipython': <bound method InteractiveShell.get_ipython of <ipykernel.zmqshell.ZMQInteractiveShell object at 0x7fb48945f198>>,\n",
       " 'exit': <IPython.core.autocall.ZMQExitAutocall at 0x7fb4892319b0>,\n",
       " 'quit': <IPython.core.autocall.ZMQExitAutocall at 0x7fb4892319b0>,\n",
       " '_': 10,\n",
       " '__': 'hi',\n",
       " '___': {...},\n",
       " '_i': 'something_new',\n",
       " '_ii': 'a = \"hi\"\\nglobals()[\"something_new\"] = 10',\n",
       " '_iii': 'a = \"hi\"\\nglobals()[\"a\"]',\n",
       " '_i1': 'globals()',\n",
       " '_1': {...},\n",
       " '_i2': 'globals()',\n",
       " '_2': {...},\n",
       " '_i3': 'a = \"hi\"\\nglobals()',\n",
       " 'a': 'hi',\n",
       " '_3': {...},\n",
       " '_i4': 'a = \"hi\"\\nglobals()[]',\n",
       " '_i5': 'a = \"hi\"\\nglobals()[\"a\"]',\n",
       " '_5': 'hi',\n",
       " '_i6': 'a = \"hi\"\\nglobals()[\"something_new\"] = 10',\n",
       " 'something_new': 10,\n",
       " '_i7': 'something_new',\n",
       " '_7': 10,\n",
       " '_i8': 'a = \"hi\"\\nglobals()'}"
      ]
     },
     "execution_count": 8,
     "metadata": {},
     "output_type": "execute_result"
    }
   ],
   "source": [
    "a = \"hi\"\n",
    "globals()"
   ]
  },
  {
   "cell_type": "code",
   "execution_count": 7,
   "metadata": {},
   "outputs": [
    {
     "data": {
      "text/plain": [
       "10"
      ]
     },
     "execution_count": 7,
     "metadata": {},
     "output_type": "execute_result"
    }
   ],
   "source": [
    "something_new"
   ]
  },
  {
   "cell_type": "markdown",
   "metadata": {},
   "source": [
    "# SQL Practice - Section Introduction\n",
    "\n",
    "## Introduction \n",
    "\n",
    "In this lesson, we'll learn about the topic of this section, and how it will be useful in a career as a Data Scientist. \n",
    "\n",
    "## Objectives\n",
    "\n",
    "You will be able to:\n",
    "\n",
    "* Understand and explain the topics that will be covered in this section\n",
    "* Understand and explain how mastery of these topics will help you in your career as a Data Scientist\n",
    "\n",
    "## More Practice With SQL\n",
    "\n",
    "This entire section is dedicated to helping you really _master_ SQL and relational databases. No new concepts will be introduced in this section. Instead, we'll be drilling you on things you already know about SQL and relational databases to make sure that you really, truly know this content well. Data Retrieval is the most foundational--and arguably most important--skill set in a Data Scientist's toolbox. In your first job as a Data Scientist, you'll quickly learn that it's usually up to you to get the data you need to solve the problem at hand. This means that you need to be an expert at working with relational databases. You can know all the Python and Machine Learning and statistics in the world, but they're useless if you don't have data to aim those skills at!\n",
    "\n",
    "In this section, we'll start by reviewing some of the more complex concepts we've learned about SQL and queries. We'll also test your knowledge of relational databases with a short quiz. Finally, we'll end with a lab that featuring real world interview questions pertaining to SQL and relational databases from major companies such as Facebook and Google!\n",
    "\n",
    "\n",
    "# Summary\n",
    "\n",
    "In this lesson, we learned about the topics and goals for this section. "
   ]
  }
 ],
 "metadata": {
  "kernelspec": {
   "display_name": "Python 3",
   "language": "python",
   "name": "python3"
  },
  "language_info": {
   "codemirror_mode": {
    "name": "ipython",
    "version": 3
   },
   "file_extension": ".py",
   "mimetype": "text/x-python",
   "name": "python",
   "nbconvert_exporter": "python",
   "pygments_lexer": "ipython3",
   "version": "3.6.6"
  }
 },
 "nbformat": 4,
 "nbformat_minor": 2
}
